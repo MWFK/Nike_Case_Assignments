{
  "nbformat": 4,
  "nbformat_minor": 0,
  "metadata": {
    "colab": {
      "name": "2. VIP Promotion PySpark Version.ipynb",
      "provenance": [],
      "collapsed_sections": [],
      "authorship_tag": "ABX9TyO+hWhuy2BAMfgpu2njB9N+",
      "include_colab_link": true
    },
    "kernelspec": {
      "name": "python3",
      "display_name": "Python 3"
    },
    "language_info": {
      "name": "python"
    }
  },
  "cells": [
    {
      "cell_type": "markdown",
      "metadata": {
        "id": "view-in-github",
        "colab_type": "text"
      },
      "source": [
        "<a href=\"https://colab.research.google.com/github/MWFK/Nike_Case_Assignments/blob/main/Python%20PySpark%20Use%20Case/2_VIP_Promotion_PySpark_Version.ipynb\" target=\"_parent\"><img src=\"https://colab.research.google.com/assets/colab-badge.svg\" alt=\"Open In Colab\"/></a>"
      ]
    },
    {
      "cell_type": "markdown",
      "source": [
        "# Install Libs"
      ],
      "metadata": {
        "id": "dSMpcM5slacH"
      }
    },
    {
      "cell_type": "code",
      "source": [
        "pip install pyspark"
      ],
      "metadata": {
        "id": "BB-x8T4UiZoA"
      },
      "execution_count": null,
      "outputs": []
    },
    {
      "cell_type": "markdown",
      "source": [
        "# Load Libs"
      ],
      "metadata": {
        "id": "zR7SAMu2lct5"
      }
    },
    {
      "cell_type": "code",
      "execution_count": 134,
      "metadata": {
        "id": "mxKslKUdhKOx"
      },
      "outputs": [],
      "source": [
        "import numpy as np\n",
        "import pandas as pd\n",
        "import pyarrow.parquet as pq\n",
        "\n",
        "import pyspark\n",
        "from pyspark.sql import SparkSession\n",
        "from pyspark.sql.functions import coalesce, when, col,when, abs"
      ]
    },
    {
      "cell_type": "markdown",
      "source": [
        "# Import Data"
      ],
      "metadata": {
        "id": "U0wtakjLlfPg"
      }
    },
    {
      "cell_type": "code",
      "source": [
        "# Implementing Parquet file format in PySpark\n",
        "spark=SparkSession.builder.appName(\"PySpark USe Case\").getOrCreate()\n",
        "\n",
        "# Reading parquet dataframe\n",
        "df_transactions = spark.read.parquet('/content/transactions.parquet')\n",
        "df_transactions.show(truncate = False)"
      ],
      "metadata": {
        "colab": {
          "base_uri": "https://localhost:8080/"
        },
        "id": "o3Ufo4dSjUkR",
        "outputId": "3a20dda9-80ec-4a4e-af94-d77c9b96eb21"
      },
      "execution_count": 85,
      "outputs": [
        {
          "output_type": "stream",
          "name": "stdout",
          "text": [
            "+-----+----------------+------------+-----------+---------------+--------------------+--------+--------+---------------------------------+------------------------+-------------+-----------------+-----------------+-------------+\n",
            "|store|transaction_date|order_number|line_number|product_id     |product_name        |quantity|currency|recommended_retail_price_per_unit|discount_amount_per_unit|profile_id   |cancellation_flag|cancellation_date|source_system|\n",
            "+-----+----------------+------------+-----------+---------------+--------------------+--------+--------+---------------------------------+------------------------+-------------+-----------------+-----------------+-------------+\n",
            "|.com |2020-11-20      |422681959244|1          |720854836340997|zJnSpFriDYyNDJhwxMxD|1       |NL      |721                              |null                    |1-5151-4642-1|null             |null             |DIGITAL      |\n",
            "|.com |2020-11-20      |422681959244|2          |999789223355744|XVnSxtFOJUDGlfxVQauS|1       |NL      |71                               |25.0                    |1-5151-4642-1|null             |null             |DIGITAL      |\n",
            "|.com |2020-11-20      |422681959244|3          |343125809243217|XkzpDAMIbZmTvuMTmGPU|1       |NL      |812                              |null                    |1-5151-4642-1|null             |null             |DIGITAL      |\n",
            "|.com |2020-11-23      |982990828489|1          |451789186646625|PeSsoTndtARHiWxgEooV|1       |SDG     |755                              |null                    |1-57006-547-0|null             |null             |DIGITAL      |\n",
            "|.com |2020-11-28      |560607850517|1          |162643898729888|XidxwPxWZGzNaZqPosjV|1       |MOP     |372                              |null                    |1-5151-4642-1|null             |null             |DIGITAL      |\n",
            "|.com |2020-11-27      |982990828489|1          |451789186646625|PeSsoTndtARHiWxgEooV|-1      |SDG     |-755                             |null                    |1-57006-547-0|null             |null             |DIGITAL      |\n",
            "|.com |2020-11-06      |255329180770|1          |89920978863916 |PCZZxsBhrPPbFXGHgisb|1       |GMD     |678                              |null                    |1-4947-2509-6|null             |null             |DIGITAL      |\n",
            "|.com |2020-11-06      |255329180770|2          |28756773917332 |AEzisXHrWPYPdGSKhASe|1       |GMD     |678                              |null                    |1-4947-2509-6|null             |null             |DIGITAL      |\n",
            "|.com |2020-11-06      |255329180770|3          |408285286501930|ADUSDiRfHjyQFwhnQJiL|2       |GMD     |400                              |null                    |1-4947-2509-6|null             |null             |DIGITAL      |\n",
            "|.com |2020-11-06      |255329180770|3          |408285286501930|ADUSDiRfHjyQFwhnQJiL|2       |GMD     |400                              |null                    |1-4947-2509-6|yes              |2020-11-06       |DIGITAL      |\n",
            "|.com |2020-11-14      |119667565341|1          |326344697748737|EYYZNlNYGxWhSRUPuyfl|4       |PKR     |898                              |75.0                    |1-4786-9297-9|null             |null             |DIGITAL      |\n",
            "|.com |2020-11-23      |144763924735|1          |12504163756291 |EwllGZIZeoKHDtrONyxW|1       |FJD     |644                              |null                    |1-4786-9297-9|null             |null             |DIGITAL      |\n",
            "|.com |2020-11-02      |195509282377|1          |133436808692578|kBzjXzAXrKdlqUzjPsSf|2       |NZD     |181                              |null                    |1-9860-3438-0|null             |null             |DIGITAL      |\n",
            "|.com |2020-11-10      |848930627247|1          |498395574486943|BTehnClwJeLEucLlMwjC|1       |MRO     |175                              |100.0                   |1-9860-3438-0|null             |null             |DIGITAL      |\n",
            "|.com |2020-11-26      |203514742148|1          |382340440683008|pqxgNnrxWFYVGBCceJnd|2       |BAM     |901                              |null                    |1-85886-104-7|null             |null             |DIGITAL      |\n",
            "|.com |2020-11-26      |203514742148|1          |382340440683008|pqxgNnrxWFYVGBCceJnd|2       |BAM     |901                              |null                    |1-85886-104-7|yes              |2020-11-27       |DIGITAL      |\n",
            "|.com |2020-11-09      |341377878278|1          |278886094726859|vGTcKZinezDPfJsnVAag|1       |ILS     |782                              |null                    |0-89923-575-1|null             |null             |DIGITAL      |\n",
            "|.com |2020-11-30      |195509282377|1          |133436808692578|kBzjXzAXrKdlqUzjPsSf|-1      |NZD     |-181                             |null                    |1-9860-3438-0|null             |null             |DIGITAL      |\n",
            "+-----+----------------+------------+-----------+---------------+--------------------+--------+--------+---------------------------------+------------------------+-------------+-----------------+-----------------+-------------+\n",
            "\n"
          ]
        }
      ]
    },
    {
      "cell_type": "code",
      "source": [
        "path_vips_1101 = '/content/vips_2020-11-01.csv'\n",
        "df_vips_1101   = spark.read.csv(path_vips_1101, header=True)\n",
        "df_vips_1101.show(truncate = False)"
      ],
      "metadata": {
        "colab": {
          "base_uri": "https://localhost:8080/"
        },
        "id": "E1OWsXfykelW",
        "outputId": "e5da00ef-3baf-4e2b-e24e-c5753c98f3ff"
      },
      "execution_count": 54,
      "outputs": [
        {
          "output_type": "stream",
          "name": "stdout",
          "text": [
            "+----------+----------+---------+--------+---------------+-----------------------+\n",
            "|vip_id    |first_name|last_name|vip_type|country        |email                  |\n",
            "+----------+----------+---------+--------+---------------+-----------------------+\n",
            "|4544056563|Brandon   |Ritter   |Athlete |The Netherlands|Brandon.Ritter@nike.com|\n",
            "|9339003839|Adam      |Hall     |Athlete |Czech Republic |Adam.Hall@nike.com     |\n",
            "|1600627714|null      |null     |Donator |Australia      |Fernando@Ford.com      |\n",
            "|7531485682|Edwin     |Floyd    |null    |The Netherlands|Edwin.Floyd@nike.com   |\n",
            "|4271215441|Kristin   |Brooks   |Donator |The Netherlands|Kristin@Brooks.com     |\n",
            "|4262242729|William   |Smith    |Athlete |United States  |William.Smith@nike.com |\n",
            "|6159265415|Angela    |Trujillo |Donator |Belarus        |Angela@Trujillo.com    |\n",
            "+----------+----------+---------+--------+---------------+-----------------------+\n",
            "\n"
          ]
        }
      ]
    },
    {
      "cell_type": "code",
      "source": [
        "path_vips_1115 = '/content/vips_2020-11-15.csv'\n",
        "df_vips_1115   = spark.read.csv(path_vips_1115, header=True)\n",
        "df_vips_1115.show(truncate = False)"
      ],
      "metadata": {
        "colab": {
          "base_uri": "https://localhost:8080/"
        },
        "id": "AdYoFwKSk3sI",
        "outputId": "88af7e37-396c-462b-989b-ebb3d14aab10"
      },
      "execution_count": 55,
      "outputs": [
        {
          "output_type": "stream",
          "name": "stdout",
          "text": [
            "+----------+----------+-------------+--------+---------------+-----------------------+\n",
            "|vip_id    |first_name|last_name    |vip_type|country        |email                  |\n",
            "+----------+----------+-------------+--------+---------------+-----------------------+\n",
            "|4544056563|Brandon   |Ritter       |Athlete |The Netherlands|Brandon.Ritter@nike.com|\n",
            "|9339003839|Adam      |Hall         |Athlete |Czech Republic |Adam.Hall@nike.com     |\n",
            "|1600627714|Fernando  |Ford         |Donator |Australia      |Fernando@Ford.com      |\n",
            "|7531485682|Edwin     |Floyd        |null    |The Netherlands|Edwin.Floyd@nike.com   |\n",
            "|4271215441|Kristin   |Brooks-Ritter|Donator |The Netherlands|Kristin@Brooks.com     |\n",
            "|4262242729|William   |Smith        |Athlete |United States  |William.Smith@nike.com |\n",
            "|6159265415|Angela    |Trujillo     |Donator |Belarus        |Angela@Trujillo.com    |\n",
            "|4711973834|Seth      |Lee          |Donator |The Netherlands|Seth@Lee.com           |\n",
            "+----------+----------+-------------+--------+---------------+-----------------------+\n",
            "\n"
          ]
        }
      ]
    },
    {
      "cell_type": "code",
      "source": [
        "path_vips_1125 = '/content/vips_2020-11-25.csv'\n",
        "df_vips_1125   = spark.read.csv(path_vips_1125, header=True)\n",
        "df_vips_1125.show(truncate = False)"
      ],
      "metadata": {
        "colab": {
          "base_uri": "https://localhost:8080/"
        },
        "id": "lDRXOa_3lJNr",
        "outputId": "3896cd04-8fa8-4195-f3bf-b84863318081"
      },
      "execution_count": 56,
      "outputs": [
        {
          "output_type": "stream",
          "name": "stdout",
          "text": [
            "+----------+----------+-------------+-----------------+---------------+-----------------------+\n",
            "|vip_id    |first_name|last_name    |vip_type         |country        |email                  |\n",
            "+----------+----------+-------------+-----------------+---------------+-----------------------+\n",
            "|4544056563|Brandon   |Ritter       |Athlete + Donator|The Netherlands|Brandon.Ritter@nike.com|\n",
            "|9339003839|Adam      |Hall         |Athlete          |Czech Republic |Adam.Hall@nike.com     |\n",
            "|1600627714|Fernando  |Ford         |Donator          |Australia      |Fernando@Ford.com      |\n",
            "|7531485682|Edwin     |Floyd        |Donator          |The Netherlands|Edwin.Floyd@nike.com   |\n",
            "|4271215441|Kristin   |Brooks-Ritter|Donator          |The Netherlands|Kristin@Brooks.com     |\n",
            "|1154401046|Justin    |Powell       |Athlete          |Finland        |Justin.Powell@nike.com |\n",
            "|4262242729|William   |Smith        |Athlete          |United States  |William.Smith@nike.com |\n",
            "|6159265415|Angela    |Trujillo     |Donator          |Belarus        |Angela@Trujillo.com    |\n",
            "|4711973834|Seth      |Lee          |Donator          |The Netherlands|Seth@Lee.com           |\n",
            "+----------+----------+-------------+-----------------+---------------+-----------------------+\n",
            "\n"
          ]
        }
      ]
    },
    {
      "cell_type": "code",
      "source": [
        "path_vips_mapping = '/content/umd_vip_to_profile_mapping.csv'\n",
        "df_vips_mapping   = spark.read.csv(path_vips_mapping, header=True, sep=';')\n",
        "df_vips_mapping.show(truncate = False)"
      ],
      "metadata": {
        "colab": {
          "base_uri": "https://localhost:8080/"
        },
        "id": "Bnsu-SQhmpTt",
        "outputId": "f290cde9-87e3-46bc-a3f1-ce0cb72a493e"
      },
      "execution_count": 57,
      "outputs": [
        {
          "output_type": "stream",
          "name": "stdout",
          "text": [
            "+----------+-------------+------+----------------+------------------------------------+\n",
            "|vip_id    |profile_id   |active|meta_change_date|meta_comments                       |\n",
            "+----------+-------------+------+----------------+------------------------------------+\n",
            "|4544056563|1-5151-4642-1|yes   |null            |null                                |\n",
            "|4544056563|1-5151-4642-1|no    |4-1-2020        |This athlete was in the system twice|\n",
            "|9339003839|1-4786-9297-9|yes   |null            |null                                |\n",
            "|1600627714|1-4947-2509-6|yes   |null            |null                                |\n",
            "|7531485682|1-57006-547-0|no    |25-1-2020       |No longer a donator                 |\n",
            "|4271215441|1-9860-3438-0|yes   |null            |null                                |\n",
            "|1154401046|1-85886-104-7|yes   |null            |null                                |\n",
            "|4262242729|0-89923-575-1|yes   |null            |null                                |\n",
            "|6159265415|0-10-241138-7|yes   |null            |null                                |\n",
            "|4711973834|1-59971-953-3|yes   |null            |null                                |\n",
            "+----------+-------------+------+----------------+------------------------------------+\n",
            "\n"
          ]
        }
      ]
    },
    {
      "cell_type": "markdown",
      "source": [
        "# VIP Data Preprocessing"
      ],
      "metadata": {
        "id": "QqGIrkKjlt_E"
      }
    },
    {
      "cell_type": "code",
      "source": [
        "def vip_process(df_vips_mapping, start_date):\n",
        "  \n",
        "  # Date based data loading\n",
        "  df_vips = spark.read.csv('/content/vips_'+start_date+'.csv', header=True)\n",
        "\n",
        "  # Only keep VIP's currently based in the Netherlands\n",
        "  df_vips = df_vips.filter((df_vips.country=='The Netherlands'))\n",
        "\n",
        "  ''' \n",
        "  An athlete got his status active as no since he was duplicated in the system\n",
        "  and since from the meta_commets we have no other indication, that means he still an active VIP, \n",
        "  so we'll delete that duplicate VIP ID with active status no\n",
        "  '''\n",
        "  df_vips_mapping = df_vips_mapping.drop_duplicates(subset=['vip_id'])\n",
        "\n",
        "  # Merge df_vips_mapping with df_vips_1101 using 'vip_id'\n",
        "  df_vips_mapped = df_vips.join(df_vips_mapping ,df_vips.vip_id == df_vips_mapping.vip_id, \"left\")\n",
        "\n",
        "  # Only keep active VIP's\n",
        "  df_vips_mapped = df_vips_mapped.filter(df_vips_mapped.active=='yes')\n",
        "\n",
        "  return df_vips_mapped[['profile_id', 'first_name', 'email']]"
      ],
      "metadata": {
        "id": "mb_4eepqwXQ9"
      },
      "execution_count": 74,
      "outputs": []
    },
    {
      "cell_type": "code",
      "source": [
        "start_date = '2020-11-01'\n",
        "vip_process(df_vips_mapping, start_date).show()"
      ],
      "metadata": {
        "colab": {
          "base_uri": "https://localhost:8080/"
        },
        "id": "j-pjrjvvytYB",
        "outputId": "60de17f1-3f2f-47e3-fd94-a841e2c1b642"
      },
      "execution_count": 75,
      "outputs": [
        {
          "output_type": "stream",
          "name": "stdout",
          "text": [
            "+-------------+----------+--------------------+\n",
            "|   profile_id|first_name|               email|\n",
            "+-------------+----------+--------------------+\n",
            "|1-9860-3438-0|   Kristin|  Kristin@Brooks.com|\n",
            "|1-5151-4642-1|   Brandon|Brandon.Ritter@ni...|\n",
            "+-------------+----------+--------------------+\n",
            "\n"
          ]
        }
      ]
    },
    {
      "cell_type": "code",
      "source": [
        "start_date = '2020-11-15'\n",
        "vip_process(df_vips_mapping, start_date).show()"
      ],
      "metadata": {
        "colab": {
          "base_uri": "https://localhost:8080/"
        },
        "id": "xmhRf8GZywbh",
        "outputId": "176a5677-5046-4a85-c987-306628eb54e4"
      },
      "execution_count": 72,
      "outputs": [
        {
          "output_type": "stream",
          "name": "stdout",
          "text": [
            "+-------------+----------+--------------------+\n",
            "|   profile_id|first_name|               email|\n",
            "+-------------+----------+--------------------+\n",
            "|1-9860-3438-0|   Kristin|  Kristin@Brooks.com|\n",
            "|1-5151-4642-1|   Brandon|Brandon.Ritter@ni...|\n",
            "|1-59971-953-3|      Seth|        Seth@Lee.com|\n",
            "+-------------+----------+--------------------+\n",
            "\n"
          ]
        }
      ]
    },
    {
      "cell_type": "code",
      "source": [
        "start_date = '2020-11-25'\n",
        "vip_process(df_vips_mapping, start_date).show()"
      ],
      "metadata": {
        "colab": {
          "base_uri": "https://localhost:8080/"
        },
        "id": "CC9P0SnJ4AYl",
        "outputId": "f536c7cb-552b-4715-ecf5-f95bcefaddb2"
      },
      "execution_count": 73,
      "outputs": [
        {
          "output_type": "stream",
          "name": "stdout",
          "text": [
            "+-------------+----------+--------------------+\n",
            "|   profile_id|first_name|               email|\n",
            "+-------------+----------+--------------------+\n",
            "|1-9860-3438-0|   Kristin|  Kristin@Brooks.com|\n",
            "|1-5151-4642-1|   Brandon|Brandon.Ritter@ni...|\n",
            "|1-59971-953-3|      Seth|        Seth@Lee.com|\n",
            "+-------------+----------+--------------------+\n",
            "\n"
          ]
        }
      ]
    },
    {
      "cell_type": "markdown",
      "source": [
        "# Transaction Data Preprocessing"
      ],
      "metadata": {
        "id": "_3vKR77e4n6p"
      }
    },
    {
      "cell_type": "code",
      "source": [
        "def transaction_process(df_transactions, start_date, end_date):\n",
        "\n",
        "  # df_transactions_date = df_transactions[(df_transactions['transaction_date'] >= start_date) & (df_transactions['transaction_date'] < end_date)]\n",
        "  df_transactions_date = df_transactions.filter(df_transactions.transaction_date >= start_date).filter(df_transactions.transaction_date < end_date) \n",
        "\n",
        "  # Replace the null with no\n",
        "  df_transactions_date = df_transactions_date.fillna('no', subset=['cancellation_flag'])\n",
        "  # Drop the cancelled items\n",
        "  df_transactions_date = df_transactions_date.filter(df_transactions_date.cancellation_flag != 'yes')\n",
        "  \n",
        "  # Change the 100 with 0, so after applying the discount the customer gets the unit for free. Divide the rest of the values by 100\n",
        "  df_transactions_date = df_transactions_date.withColumn('discount_amount_per_unit', when(df_transactions_date['discount_amount_per_unit'] == 100, 0).otherwise(df_transactions_date['discount_amount_per_unit']/100))\n",
        "  # Change the null values with 1, so no discount will be applied\n",
        "  df_transactions_date = df_transactions_date.fillna(1, subset=['discount_amount_per_unit'])\n",
        "  \n",
        "  # Calculate the unit price after applying the discount\n",
        "  df_transactions_date = df_transactions_date.withColumn('unit_price_after_discount', abs(col('recommended_retail_price_per_unit'))*col('discount_amount_per_unit')*col('quantity'))\\\n",
        "  \n",
        "  # Filter out unecessary columns\n",
        "  df_transactions_date = df_transactions_date[['profile_id', 'unit_price_after_discount']]\n",
        "\n",
        "  return df_transactions_date.groupBy('profile_id').sum('unit_price_after_discount').withColumnRenamed(\"sum(unit_price_after_discount)\", \"unit_price_after_discount\")"
      ],
      "metadata": {
        "id": "1f43g27DGdl4"
      },
      "execution_count": 164,
      "outputs": []
    },
    {
      "cell_type": "code",
      "source": [
        "start_date = '2020-11-01'\n",
        "end_date   = '2020-11-15'\n",
        "transaction_process(df_transactions, start_date, end_date).show()"
      ],
      "metadata": {
        "colab": {
          "base_uri": "https://localhost:8080/"
        },
        "id": "_7cODqU-L952",
        "outputId": "4d30e205-d681-4001-e764-942a1c1e7b64"
      },
      "execution_count": 165,
      "outputs": [
        {
          "output_type": "stream",
          "name": "stdout",
          "text": [
            "+-------------+-------------------------+\n",
            "|   profile_id|unit_price_after_discount|\n",
            "+-------------+-------------------------+\n",
            "|1-9860-3438-0|                    362.0|\n",
            "|0-89923-575-1|                    782.0|\n",
            "|1-4786-9297-9|                   2694.0|\n",
            "|1-4947-2509-6|                   2156.0|\n",
            "+-------------+-------------------------+\n",
            "\n"
          ]
        }
      ]
    },
    {
      "cell_type": "code",
      "source": [
        "start_date = '2020-11-15'\n",
        "end_date   = '2020-11-25'\n",
        "transaction_process(df_transactions, start_date, end_date).show()"
      ],
      "metadata": {
        "colab": {
          "base_uri": "https://localhost:8080/"
        },
        "id": "hNqYmo8-S0wA",
        "outputId": "84f81ee5-37b3-4a7b-e808-ac2790450ccf"
      },
      "execution_count": 172,
      "outputs": [
        {
          "output_type": "stream",
          "name": "stdout",
          "text": [
            "+-------------+-------------------------+\n",
            "|   profile_id|unit_price_after_discount|\n",
            "+-------------+-------------------------+\n",
            "|1-57006-547-0|                    755.0|\n",
            "|1-5151-4642-1|                  1550.75|\n",
            "|1-4786-9297-9|                    644.0|\n",
            "+-------------+-------------------------+\n",
            "\n"
          ]
        }
      ]
    },
    {
      "cell_type": "code",
      "source": [
        "start_date = '2020-11-25'\n",
        "end_date   = '2020-11-31'\n",
        "transaction_process(df_transactions, start_date, end_date).show()"
      ],
      "metadata": {
        "colab": {
          "base_uri": "https://localhost:8080/"
        },
        "id": "Uow0hJdHS3n6",
        "outputId": "1c869ffd-6f5f-4745-ce82-dd7b94a47aa7"
      },
      "execution_count": 173,
      "outputs": [
        {
          "output_type": "stream",
          "name": "stdout",
          "text": [
            "+-------------+-------------------------+\n",
            "|   profile_id|unit_price_after_discount|\n",
            "+-------------+-------------------------+\n",
            "|1-9860-3438-0|                   -181.0|\n",
            "|1-57006-547-0|                   -755.0|\n",
            "|1-85886-104-7|                   1802.0|\n",
            "|1-5151-4642-1|                    372.0|\n",
            "+-------------+-------------------------+\n",
            "\n"
          ]
        }
      ]
    },
    {
      "cell_type": "markdown",
      "source": [
        "# Data Overview"
      ],
      "metadata": {
        "id": "jp5v6OVeNn4V"
      }
    },
    {
      "cell_type": "code",
      "source": [
        "def vip_sales_overview(df_vips_mapping, df_transactions, start_date, end_date):\n",
        "  df_vips_mapped              = vip_process(df_vips_mapping, start_date)\n",
        "  df_transactions_date        = transaction_process(df_transactions, start_date, end_date)\n",
        "  df_vips_mapped_transactions = df_vips_mapped.join(df_transactions_date , on=['profile_id'] , how = 'left')\n",
        "  return df_vips_mapped_transactions[['profile_id','first_name', 'email', 'unit_price_after_discount']]"
      ],
      "metadata": {
        "id": "dNxTqnqpNobu"
      },
      "execution_count": 166,
      "outputs": []
    },
    {
      "cell_type": "markdown",
      "source": [
        "# Weekly Overview"
      ],
      "metadata": {
        "id": "t0btOK1aNz7t"
      }
    },
    {
      "cell_type": "code",
      "source": [
        "start_date = '2020-11-01'\n",
        "end_date   = '2020-11-15'\n",
        "vip_sales_overview(df_vips_mapping, df_transactions, start_date, end_date).show()"
      ],
      "metadata": {
        "colab": {
          "base_uri": "https://localhost:8080/"
        },
        "id": "2vUKK4emNsj6",
        "outputId": "5cd06a5b-666a-4bb6-ac82-974fbc7030b1"
      },
      "execution_count": 167,
      "outputs": [
        {
          "output_type": "stream",
          "name": "stdout",
          "text": [
            "+-------------+----------+--------------------+-------------------------+\n",
            "|   profile_id|first_name|               email|unit_price_after_discount|\n",
            "+-------------+----------+--------------------+-------------------------+\n",
            "|1-9860-3438-0|   Kristin|  Kristin@Brooks.com|                    362.0|\n",
            "|1-5151-4642-1|   Brandon|Brandon.Ritter@ni...|                     null|\n",
            "+-------------+----------+--------------------+-------------------------+\n",
            "\n"
          ]
        }
      ]
    },
    {
      "cell_type": "markdown",
      "source": [
        "Interpretations Brandon did not make a purchase during the first two weeks. Kristin have bought two of the same unit during the first two weeks, Then he returned one of them during the last week Therefore, we should keep the minus values as an indications for returned units."
      ],
      "metadata": {
        "id": "XOHNedf6R-4B"
      }
    },
    {
      "cell_type": "code",
      "source": [
        "start_date = '2020-11-15'\n",
        "end_date   = '2020-11-25'\n",
        "vip_sales_overview(df_vips_mapping, df_transactions, start_date, end_date).show()"
      ],
      "metadata": {
        "colab": {
          "base_uri": "https://localhost:8080/"
        },
        "id": "IZDJQoD1P6_J",
        "outputId": "eccef1dd-6813-4532-e471-94b416756105"
      },
      "execution_count": 169,
      "outputs": [
        {
          "output_type": "stream",
          "name": "stdout",
          "text": [
            "+-------------+----------+--------------------+-------------------------+\n",
            "|   profile_id|first_name|               email|unit_price_after_discount|\n",
            "+-------------+----------+--------------------+-------------------------+\n",
            "|1-9860-3438-0|   Kristin|  Kristin@Brooks.com|                     null|\n",
            "|1-5151-4642-1|   Brandon|Brandon.Ritter@ni...|                  1550.75|\n",
            "|1-59971-953-3|      Seth|        Seth@Lee.com|                     null|\n",
            "+-------------+----------+--------------------+-------------------------+\n",
            "\n"
          ]
        }
      ]
    },
    {
      "cell_type": "markdown",
      "source": [
        "Seth did not make any transactions during this period.\n",
        "\n",
        "Kristin did not make any transactions during this period.\n"
      ],
      "metadata": {
        "id": "cbrC-Fm5SMgy"
      }
    },
    {
      "cell_type": "code",
      "source": [
        "start_date = '2020-11-25'\n",
        "end_date   = '2020-11-31'\n",
        "vip_sales_overview(df_vips_mapping, df_transactions, start_date, end_date).show()"
      ],
      "metadata": {
        "colab": {
          "base_uri": "https://localhost:8080/"
        },
        "id": "KJT-bh9CSF5G",
        "outputId": "65b6b603-d3f0-44ad-fc41-903502926f49"
      },
      "execution_count": 171,
      "outputs": [
        {
          "output_type": "stream",
          "name": "stdout",
          "text": [
            "+-------------+----------+--------------------+-------------------------+\n",
            "|   profile_id|first_name|               email|unit_price_after_discount|\n",
            "+-------------+----------+--------------------+-------------------------+\n",
            "|1-9860-3438-0|   Kristin|  Kristin@Brooks.com|                   -181.0|\n",
            "|1-5151-4642-1|   Brandon|Brandon.Ritter@ni...|                    372.0|\n",
            "|1-59971-953-3|      Seth|        Seth@Lee.com|                     null|\n",
            "+-------------+----------+--------------------+-------------------------+\n",
            "\n"
          ]
        }
      ]
    },
    {
      "cell_type": "markdown",
      "source": [
        "Seth did not make any transactions during this period.\n",
        "\n",
        "Kristin have returned on eof the two items that he have purchased in the first week of november.\n"
      ],
      "metadata": {
        "id": "GQVO9I-6SX00"
      }
    }
  ]
}